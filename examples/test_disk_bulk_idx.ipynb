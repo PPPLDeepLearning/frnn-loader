{
 "cells": [
  {
   "cell_type": "code",
   "execution_count": 1,
   "id": "01bddd6b",
   "metadata": {},
   "outputs": [],
   "source": [
    "import sys\n",
    "sys.path.append(\"/home/rkube/repos/frnn-loader\")"
   ]
  },
  {
   "cell_type": "code",
   "execution_count": 2,
   "id": "349d40ec",
   "metadata": {},
   "outputs": [],
   "source": [
    "import torch\n",
    "import torch.utils.data as data\n",
    "import h5py\n",
    "import numpy as np\n",
    "\n",
    "import tempfile"
   ]
  },
  {
   "cell_type": "code",
   "execution_count": 3,
   "id": "082e9e84",
   "metadata": {},
   "outputs": [],
   "source": [
    "\n",
    "from frnn_loader.backends.fetchers import fetcher_d3d_v1\n",
    "from frnn_loader.primitives.resamplers import resampler_causal\n",
    "from frnn_loader.backends.backend_hdf5 import backend_hdf5\n",
    "from frnn_loader.primitives.signal import signal_0d\n",
    "from frnn_loader.loaders.frnn_dataset_disk import shot_dataset_disk\n",
    "from frnn_loader.utils.errors import BadDownloadError"
   ]
  },
  {
   "cell_type": "code",
   "execution_count": 4,
   "id": "dad08afd",
   "metadata": {},
   "outputs": [],
   "source": [
    "root = \"/home/rkube/tmp/tmpdq4efpr1\"\n",
    "basedir = \"/projects/FRNN/shot_lists\""
   ]
  },
  {
   "cell_type": "code",
   "execution_count": 5,
   "id": "877e82e3",
   "metadata": {},
   "outputs": [],
   "source": [
    "my_resampler = resampler_causal(0.0, 2e3, 1e0)\n",
    "\n",
    "# Instantiate a file backend\n",
    "my_backend_file = backend_hdf5(\"/home/rkube/datasets/frnn/\")\n",
    "my_fetcher = fetcher_d3d_v1()\n",
    "root = root\n",
    "\n",
    "signal_fs07 = signal_0d(\"fs07\")\n",
    "signal_q95 = signal_0d(\"q95\")\n",
    "signal_pinj = signal_0d(\"bmspinj\")\n",
    "\n",
    "ds = shot_dataset_disk(167475, \n",
    "                       predictors=[signal_fs07, signal_q95], \n",
    "                       resampler=my_resampler, \n",
    "                       backend_file=my_backend_file, \n",
    "                       fetcher=my_fetcher, \n",
    "                       root=root,\n",
    "                       download=True,\n",
    "                       dtype=torch.float32)"
   ]
  },
  {
   "cell_type": "code",
   "execution_count": 13,
   "id": "d18b8c0c",
   "metadata": {},
   "outputs": [
    {
     "name": "stdout",
     "output_type": "stream",
     "text": [
      "tensor([[-7.9470e+10,  1.2168e+01]])\n",
      "tensor([[6.2916e+11, 1.1499e+01]])\n",
      "tensor([[2.0464e+12, 8.4916e+00]])\n"
     ]
    }
   ],
   "source": [
    "print(ds[0])\n",
    "print(ds[200])\n",
    "print(ds[400])"
   ]
  },
  {
   "cell_type": "code",
   "execution_count": 11,
   "id": "ffda62da",
   "metadata": {},
   "outputs": [
    {
     "name": "stdout",
     "output_type": "stream",
     "text": [
      "idx is a tensor\n"
     ]
    },
    {
     "data": {
      "text/plain": [
       "tensor([[-7.9470e+10,  1.2168e+01],\n",
       "        [ 6.2916e+11,  1.1499e+01],\n",
       "        [ 2.0464e+12,  8.4916e+00]])"
      ]
     },
     "execution_count": 11,
     "metadata": {},
     "output_type": "execute_result"
    }
   ],
   "source": [
    "ds[torch.tensor([0, 200, 400])]"
   ]
  },
  {
   "cell_type": "code",
   "execution_count": 12,
   "id": "97336c17",
   "metadata": {},
   "outputs": [
    {
     "name": "stdout",
     "output_type": "stream",
     "text": [
      "idx is a tensor\n"
     ]
    },
    {
     "data": {
      "text/plain": [
       "tensor([[-7.9470e+10,  1.2168e+01],\n",
       "        [ 2.0464e+12,  8.4916e+00],\n",
       "        [ 6.2916e+11,  1.1499e+01]])"
      ]
     },
     "execution_count": 12,
     "metadata": {},
     "output_type": "execute_result"
    }
   ],
   "source": [
    "ds[torch.tensor([0, 400, 200])]"
   ]
  },
  {
   "cell_type": "code",
   "execution_count": null,
   "id": "f2863622",
   "metadata": {},
   "outputs": [],
   "source": [
    "o = torch.zeros((10, 3))\n",
    "\n",
    "o[:, 1:2] = torch.tensor(np.random.randn(10, 1))\n"
   ]
  },
  {
   "cell_type": "code",
   "execution_count": null,
   "id": "ed6984d7",
   "metadata": {},
   "outputs": [],
   "source": [
    "np.random.randn(10, 2)"
   ]
  },
  {
   "cell_type": "code",
   "execution_count": null,
   "id": "3673c022",
   "metadata": {},
   "outputs": [],
   "source": []
  },
  {
   "cell_type": "code",
   "execution_count": null,
   "id": "cfb6dd2d",
   "metadata": {},
   "outputs": [],
   "source": []
  },
  {
   "cell_type": "code",
   "execution_count": null,
   "id": "f0941b64",
   "metadata": {},
   "outputs": [],
   "source": [
    "class MyDataset(data.Dataset):\n",
    "    def __init__(self):\n",
    "        self.resampler = range(100)\n",
    "        self.data = torch.rand(100, 5)\n",
    "\n",
    "    def __len__(self) -> int:\n",
    "        print(\"calling __len__\")\n",
    "        return len(self.resampler)\n",
    "\n",
    "    def __getitem__(self, i) -> torch.Tensor:\n",
    "        print(f\"__getitem__: {i}\")\n",
    "        return self.data[i]"
   ]
  },
  {
   "cell_type": "code",
   "execution_count": null,
   "id": "391da167",
   "metadata": {},
   "outputs": [],
   "source": [
    "dataset = MyDataset()\n",
    "sampler = data.BatchSampler(data.RandomSampler(dataset), 4, False)\n",
    "loader  = data.DataLoader(dataset, sampler=sampler, batch_size=None)"
   ]
  },
  {
   "cell_type": "code",
   "execution_count": null,
   "id": "7751b5bf",
   "metadata": {},
   "outputs": [],
   "source": [
    "dataset[[1,2,3]]"
   ]
  },
  {
   "cell_type": "code",
   "execution_count": null,
   "id": "eeafb009",
   "metadata": {},
   "outputs": [],
   "source": [
    "for x in loader:\n",
    "    print(x)"
   ]
  },
  {
   "cell_type": "code",
   "execution_count": null,
   "id": "b970a9b6",
   "metadata": {},
   "outputs": [],
   "source": [
    "# Array with random indices\n",
    "idx_orig = np.array([1, 2, 9, 3, 4, 8, 5])\n",
    "idx = np.zeros_like(idx_orig)\n",
    "idx[:] = idx_orig[:]\n",
    "\n",
    "# sort_idx is the array that induces an order on idx\n",
    "sort_idx = np.argsort(idx)\n",
    "print(sort_idx, idx[sort_idx])\n",
    "\n",
    "# Applying argsort to sort_idx gives us an array that allows us to re-construct the original shuffling\n",
    "sort_idx2 = np.argsort(sort_idx)\n",
    "print(idx[sort_idx[sort_idx2]])\n",
    "\n",
    "idx[sort_idx[sort_idx2]] == idx_orig"
   ]
  },
  {
   "cell_type": "code",
   "execution_count": null,
   "id": "e1338d40",
   "metadata": {},
   "outputs": [],
   "source": [
    "idx[sort_idx[sort_idx2]]"
   ]
  },
  {
   "cell_type": "code",
   "execution_count": null,
   "id": "573f867c",
   "metadata": {},
   "outputs": [],
   "source": [
    "idx_orig.tolist()"
   ]
  },
  {
   "cell_type": "code",
   "execution_count": null,
   "id": "9ba804e4",
   "metadata": {},
   "outputs": [],
   "source": [
    "foo = np.zeros((2000, 1))\n",
    "foo[[1,2,3]]"
   ]
  },
  {
   "cell_type": "code",
   "execution_count": null,
   "id": "2988fb82",
   "metadata": {},
   "outputs": [],
   "source": [
    "pred_list = [\"fs07_trf\", \"q95_trf\"]\n",
    "\n",
    "out_data = np.zeros([len(idx), len(pred_list)])\n",
    "\n",
    "with h5py.File(\"/home/rkube/tmp/tmp2s2_k1aj/ty70d3n_.h5\", \"r\") as fp:\n",
    "    sort_idx = np.argsort(idx)\n",
    "    for i, pred in enumerate(pred_list):\n",
    "        tb = fp[f\"/transformed/{pred}\"][\"timebase\"][2]\n",
    "        fetch = fp[f\"/transformed/{pred}\"][\"signal_data\"][idx[sort_idx].tolist(), :]\n",
    "        #fetch = fp[f\"/transformed/{pred}\"][\"signal_data\"][idx[sort_idx]][:,0:1]\n",
    "        print(fetch.shape, type(fetch))\n",
    "#         print(fetch.shape)\n",
    "#         out_data[:, i] = fetch[sort_idx2, 0:1]\n",
    "#         print(fetch[sort_idx2])\n",
    "        \n",
    "print(out_data)"
   ]
  },
  {
   "cell_type": "code",
   "execution_count": null,
   "id": "b48c6727",
   "metadata": {},
   "outputs": [],
   "source": [
    "with h5py.File(\"/home/rkube/tmp/tmp2s2_k1aj/ty70d3n_.h5\", \"r\") as fp:\n",
    "    sort_idx = np.argsort(idx)\n",
    "    for pred in [\"fs07_trf\", \"q95_trf\"]:\n",
    "        data_list = []\n",
    "        for i in idx:\n",
    "            data_list.append(fp[f\"/transformed/{pred}\"][\"signal_data\"][i][0])\n",
    "\n",
    "        print(data_list)"
   ]
  },
  {
   "cell_type": "code",
   "execution_count": null,
   "id": "94cff9cf",
   "metadata": {},
   "outputs": [],
   "source": []
  },
  {
   "cell_type": "code",
   "execution_count": null,
   "id": "cca09f38",
   "metadata": {},
   "outputs": [],
   "source": []
  },
  {
   "cell_type": "code",
   "execution_count": null,
   "id": "8d04fbf3",
   "metadata": {},
   "outputs": [],
   "source": [
    "torch.tensor([1,2,3]).tolist()"
   ]
  },
  {
   "cell_type": "code",
   "execution_count": null,
   "id": "0a0901b2",
   "metadata": {},
   "outputs": [],
   "source": []
  }
 ],
 "metadata": {
  "kernelspec": {
   "display_name": "Python 3 (ipykernel)",
   "language": "python",
   "name": "python3"
  },
  "language_info": {
   "codemirror_mode": {
    "name": "ipython",
    "version": 3
   },
   "file_extension": ".py",
   "mimetype": "text/x-python",
   "name": "python",
   "nbconvert_exporter": "python",
   "pygments_lexer": "ipython3",
   "version": "3.8.13"
  }
 },
 "nbformat": 4,
 "nbformat_minor": 5
}
