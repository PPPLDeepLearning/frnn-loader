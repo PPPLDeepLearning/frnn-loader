{
 "cells": [
  {
   "cell_type": "code",
   "execution_count": 1,
   "metadata": {},
   "outputs": [],
   "source": [
    "%load_ext autoreload\n",
    "%autoreload 2"
   ]
  },
  {
   "cell_type": "code",
   "execution_count": 2,
   "metadata": {},
   "outputs": [
    {
     "name": "stderr",
     "output_type": "stream",
     "text": [
      "/home/rkube/miniconda3/envs/frnn/lib/python3.10/site-packages/tqdm/auto.py:22: TqdmWarning: IProgress not found. Please update jupyter and ipywidgets. See https://ipywidgets.readthedocs.io/en/stable/user_install.html\n",
      "  from .autonotebook import tqdm as notebook_tqdm\n"
     ]
    }
   ],
   "source": [
    "import torch\n",
    "\n",
    "from frnn_loader.backends.machine import MachineD3D\n",
    "from frnn_loader.data.user_signals import fs07, ip, q95, neped\n",
    "from frnn_loader.primitives.resamplers import resampler_last\n",
    "from frnn_loader.backends.backend_txt import backend_txt\n",
    "from frnn_loader.loaders.frnn_dataset import shot_dataset\n",
    "\n",
    "\n",
    "#import numpy as np\n",
    "import matplotlib.pyplot as plt\n",
    "\n",
    "#import logging\n",
    "#logging.basicConfig(filename=\"frnn_loader.log\", level=logging.INFO)"
   ]
  },
  {
   "cell_type": "code",
   "execution_count": 3,
   "metadata": {},
   "outputs": [],
   "source": [
    "# Instantiate a resampler\n",
    "my_resampler = resampler_last(0.0, 2.0, 1e-3)"
   ]
  },
  {
   "cell_type": "code",
   "execution_count": 4,
   "metadata": {},
   "outputs": [],
   "source": [
    "# Instantiate a file backend\n",
    "my_backend_file = backend_txt(\"/home/rkube/datasets/frnn/signal_data_new_2021/\")"
   ]
  },
  {
   "cell_type": "code",
   "execution_count": 5,
   "metadata": {},
   "outputs": [
    {
     "name": "stdout",
     "output_type": "stream",
     "text": [
      "Loaded signal filterscope fs07: tb.shape = torch.Size([400000]), signal.shape = torch.Size([400000, 1])\n",
      "Loaded signal q95 safety factor: tb.shape = torch.Size([282]), signal.shape = torch.Size([282, 1])\n",
      "Loaded signal neped: tb.shape = torch.Size([891]), signal.shape = torch.Size([891, 1])\n",
      "len(time_arrays):  3\n",
      "len(signal_arrays):  3\n",
      "      0: shape =  torch.Size([400000, 1])\n",
      "      1: shape =  torch.Size([282, 1])\n",
      "      2: shape =  torch.Size([891, 1])\n",
      "t_min = 0.11083199828863144, t_max = inf\n",
      "0 filterscope fs07 torch.Size([400000]) torch.Size([400000, 1])\n",
      "torch.Size([400000]) torch.Size([391959]) torch.Size([391959, 1])\n",
      "1 q95 safety factor torch.Size([282]) torch.Size([282, 1])\n",
      "torch.Size([282]) torch.Size([280]) torch.Size([280, 1])\n",
      "2 neped torch.Size([891]) torch.Size([891, 1])\n",
      "torch.Size([891]) torch.Size([891]) torch.Size([891, 1])\n"
     ]
    }
   ],
   "source": [
    "ds = shot_dataset(184800, MachineD3D(), [fs07, q95, neped], resampler=my_resampler, backend_file=my_backend_file, download=False, dtype=torch.float32)\n",
    "\n",
    "# signal_list = [fs07, ip, q95, neped]\n",
    "# my_shot = Shot(184800, MachineD3D(), signal_list)\n",
    "\n",
    "# # List the signals that are in the shot\n",
    "# for s in my_shot.signals:\n",
    "#     print(\"Signal \", s, \" is of type \", type(s))"
   ]
  },
  {
   "cell_type": "code",
   "execution_count": null,
   "metadata": {},
   "outputs": [],
   "source": []
  },
  {
   "cell_type": "code",
   "execution_count": null,
   "metadata": {},
   "outputs": [],
   "source": []
  }
 ],
 "metadata": {
  "kernelspec": {
   "display_name": "Python 3.10.4 ('frnn')",
   "language": "python",
   "name": "python3"
  },
  "language_info": {
   "codemirror_mode": {
    "name": "ipython",
    "version": 3
   },
   "file_extension": ".py",
   "mimetype": "text/x-python",
   "name": "python",
   "nbconvert_exporter": "python",
   "pygments_lexer": "ipython3",
   "version": "3.10.4"
  },
  "orig_nbformat": 4,
  "vscode": {
   "interpreter": {
    "hash": "e8b09a28690833d20ef7e01abb5e4b52a298f610b5b19a8becf858d83ce4e92d"
   }
  }
 },
 "nbformat": 4,
 "nbformat_minor": 2
}
