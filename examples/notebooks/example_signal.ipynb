{
 "cells": [
  {
   "cell_type": "code",
   "execution_count": 1,
   "metadata": {},
   "outputs": [],
   "source": [
    "%load_ext autoreload\n",
    "%autoreload 2"
   ]
  },
  {
   "cell_type": "markdown",
   "metadata": {},
   "source": [
    "# Example of how to load a signal using FRNN loaders\n",
    "This notebook illustrates how instances of the `signal` class can be used to provide\n",
    "access to measurements on the Princeton university clusters."
   ]
  },
  {
   "cell_type": "code",
   "execution_count": 2,
   "metadata": {},
   "outputs": [],
   "source": [
    "from os.path import join\n",
    "import matplotlib.pyplot as plt\n",
    "\n",
    "# Signals are defined on machines. We show how to load D3D data and need to import this machine\n",
    "from frnn_loader.backends.machine import MachineD3D\n",
    "# This instance provides the definitions of the filterscope data\n",
    "from frnn_loader.data.user_signals import fs07, betan\n",
    "# We also need a shot object that provides information where to load the data from\n",
    "from frnn_loader.primitives.shots import Shot\n"
   ]
  },
  {
   "cell_type": "markdown",
   "metadata": {},
   "source": [
    "First, let's investigate the Machine class. It's main purpose is to be a data structure that identifies which machine a signal lives on. It also provides data loading mechanisms to fetch signal data etc."
   ]
  },
  {
   "cell_type": "code",
   "execution_count": 3,
   "metadata": {},
   "outputs": [
    {
     "data": {
      "text/plain": [
       "'d3d'"
      ]
     },
     "execution_count": 3,
     "metadata": {},
     "output_type": "execute_result"
    }
   ],
   "source": [
    "# Besides data loading mechanisms, Machine classes provide a name that allows to identify them\n",
    "MachineD3D.name"
   ]
  },
  {
   "cell_type": "code",
   "execution_count": 6,
   "metadata": {},
   "outputs": [
    {
     "data": {
      "text/plain": [
       "0.2"
      ]
     },
     "execution_count": 6,
     "metadata": {},
     "output_type": "execute_result"
    }
   ],
   "source": [
    "MachineD3D().current_threshold"
   ]
  },
  {
   "cell_type": "markdown",
   "metadata": {},
   "source": [
    "To load data into the signal we need to have a dummy-class for a shot.\n",
    "This class just needs to provide a machine and a shot number so that the\n",
    "load methods from the shot know where to fetch data from"
   ]
  },
  {
   "cell_type": "code",
   "execution_count": 8,
   "metadata": {},
   "outputs": [],
   "source": [
    "class dummy_shot():\n",
    "    \"\"\"A dummy shot class that provides a machine and a shot number.\"\"\"\n",
    "    def __init__(self, machine, number):\n",
    "        self.machine = machine\n",
    "        self.number = number\n",
    "\n",
    "my_shot = dummy_shot(MachineD3D, 184800)"
   ]
  },
  {
   "cell_type": "markdown",
   "metadata": {},
   "source": [
    "We now use this class in the data loader methods of the signals we imported on the top.\n",
    "This allows us to load the desired data from txt files on the file system."
   ]
  },
  {
   "cell_type": "code",
   "execution_count": 9,
   "metadata": {},
   "outputs": [
    {
     "data": {
      "text/plain": [
       "[<matplotlib.lines.Line2D at 0x7fea9d84f400>]"
      ]
     },
     "execution_count": 9,
     "metadata": {},
     "output_type": "execute_result"
    },
    {
     "data": {
      "image/png": "[encoded data removed]",
      "text/plain": [
       "<Figure size 432x288 with 1 Axes>"
      ]
     },
     "metadata": {
      "needs_background": "light"
     },
     "output_type": "display_data"
    }
   ],
   "source": [
    "# Example 1 / Filterscope data\n",
    "t_fs07, sig_fs07 = fs07.load_data(\"/home/rkube/datasets/frnn/signal_data_new_2021/\", my_shot)\n",
    "plt.plot(t_fs07, sig_fs07)"
   ]
  },
  {
   "cell_type": "code",
   "execution_count": 11,
   "metadata": {},
   "outputs": [
    {
     "data": {
      "text/plain": [
       "[<matplotlib.lines.Line2D at 0x7fea9d6cb9a0>]"
      ]
     },
     "execution_count": 11,
     "metadata": {},
     "output_type": "execute_result"
    },
    {
     "data": {
      "image/png": "[encoded data removed]",
      "text/plain": [
       "<Figure size 432x288 with 1 Axes>"
      ]
     },
     "metadata": {
      "needs_background": "light"
     },
     "output_type": "display_data"
    }
   ],
   "source": [
    "# Example 2 / beta n data\n",
    "t_betan, sig_betan = betan.load_data(\"/home/rkube/datasets/frnn/signal_data_new_2021/\", my_shot)\n",
    "plt.plot(t_betan, sig_betan)"
   ]
  },
  {
   "cell_type": "code",
   "execution_count": 13,
   "metadata": {},
   "outputs": [
    {
     "name": "stdout",
     "output_type": "stream",
     "text": [
      "(400000, 1)\n",
      "(11123, 1)\n"
     ]
    }
   ],
   "source": [
    "# The signals are all sampled on their original sampling rate\n",
    "print(sig_fs07.shape)\n",
    "print(sig_betan.shape)"
   ]
  }
 ],
 "metadata": {
  "kernelspec": {
   "display_name": "Python 3.10.4 ('frnn')",
   "language": "python",
   "name": "python3"
  },
  "language_info": {
   "codemirror_mode": {
    "name": "ipython",
    "version": 3
   },
   "file_extension": ".py",
   "mimetype": "text/x-python",
   "name": "python",
   "nbconvert_exporter": "python",
   "pygments_lexer": "ipython3",
   "version": "3.10.4"
  },
  "vscode": {
   "interpreter": {
    "hash": "e8b09a28690833d20ef7e01abb5e4b52a298f610b5b19a8becf858d83ce4e92d"
   }
  }
 },
 "nbformat": 4,
 "nbformat_minor": 2
}
